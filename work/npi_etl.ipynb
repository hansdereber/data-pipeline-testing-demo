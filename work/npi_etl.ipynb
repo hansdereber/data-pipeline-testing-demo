{
 "cells": [
  {
   "cell_type": "code",
   "execution_count": 5,
   "metadata": {},
   "outputs": [],
   "source": [
    "import pandas as pd\n",
    "\n",
    "raw = pd.read_csv('npidata_pfile_20190902-20190908.csv', low_memory=False)\n",
    "data = raw[['Provider Organization Name (Legal Business Name)', 'Provider First Name', 'Provider Middle Name', 'Provider Last Name (Legal Name)']]"
   ]
  },
  {
   "cell_type": "code",
   "execution_count": null,
   "metadata": {},
   "outputs": [],
   "source": []
  },
  {
   "cell_type": "code",
   "execution_count": 9,
   "metadata": {},
   "outputs": [
    {
     "name": "stdout",
     "output_type": "stream",
     "text": [
      "\u001b[36m  ___              _     ___                  _        _   _             \n",
      " / __|_ _ ___ __ _| |_  | __|_ ___ __  ___ __| |_ __ _| |_(_)___ _ _  ___\n",
      "| (_ | '_/ -_) _` |  _| | _|\\ \\ / '_ \\/ -_) _|  _/ _` |  _| / _ \\ ' \\(_-<\n",
      " \\___|_| \\___\\__,_|\\__| |___/_\\_\\ .__/\\___\\__|\\__\\__,_|\\__|_\\___/_||_/__/\n",
      "                                |_|                                      \n",
      "             ~ Always know what to expect from your data ~             \n",
      "\u001b[0m\u001b[0m\n",
      "In a few minutes you will see Great Expectations in action on your data!\n",
      "\n",
      "First, Great Expectations will create a new directory:\n",
      "\n",
      "    great_expectations\n",
      "    ├── expectations\n",
      "    ├── great_expectations.yml\n",
      "    ├── notebooks\n",
      "    │   ├── pandas\n",
      "    │   ├── spark\n",
      "    │   └── sql\n",
      "    ├── plugins\n",
      "    │   └── ...\n",
      "    └── uncommitted\n",
      "        ├── config_variables.yml\n",
      "        └── ...\n",
      "\n",
      "OK to proceed? [Y/n]: ^C\n",
      "Aborted!\n"
     ]
    }
   ],
   "source": [
    "# Install great_expectations pip package in the current Jupyter kernel\n",
    "import sys\n",
    "!great_expectations init"
   ]
  }
 ],
 "metadata": {
  "kernelspec": {
   "display_name": "Python 3",
   "language": "python",
   "name": "python3"
  },
  "language_info": {
   "codemirror_mode": {
    "name": "ipython",
    "version": 3
   },
   "file_extension": ".py",
   "mimetype": "text/x-python",
   "name": "python",
   "nbconvert_exporter": "python",
   "pygments_lexer": "ipython3",
   "version": "3.7.6"
  },
  "pycharm": {
   "stem_cell": {
    "cell_type": "raw",
    "source": [],
    "metadata": {
     "collapsed": false
    }
   }
  }
 },
 "nbformat": 4,
 "nbformat_minor": 4
}
