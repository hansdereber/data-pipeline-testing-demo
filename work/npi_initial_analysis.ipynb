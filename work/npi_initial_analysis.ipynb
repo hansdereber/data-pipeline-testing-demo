{
 "cells": [
  {
   "cell_type": "code",
   "execution_count": 4,
   "metadata": {},
   "outputs": [],
   "source": [
    "import pandas as pd\n",
    "\n",
    "df = pd.read_csv('npidata_pfile_20190902-20190908.csv')"
   ]
  },
  {
   "cell_type": "code",
   "execution_count": 16,
   "metadata": {},
   "outputs": [
    {
     "name": "stdout",
     "output_type": "stream",
     "text": [
      "Provider Organization Name (Legal Business Name)\n",
      "Provider Last Name (Legal Name)\n",
      "Provider First Name\n",
      "Provider Middle Name\n",
      "Provider Name Prefix Text\n",
      "Provider Name Suffix Text\n",
      "Provider Other Organization Name\n",
      "Provider Other Organization Name Type Code\n",
      "Provider Other Last Name\n",
      "Provider Other First Name\n",
      "Provider Other Middle Name\n",
      "Provider Other Name Prefix Text\n",
      "Provider Other Name Suffix Text\n",
      "Provider Other Last Name Type Code\n",
      "Provider Business Mailing Address City Name\n",
      "Provider Business Mailing Address State Name\n",
      "Provider Business Practice Location Address City Name\n",
      "Provider Business Practice Location Address State Name\n",
      "Authorized Official Last Name\n",
      "Authorized Official First Name\n",
      "Authorized Official Middle Name\n",
      "Authorized Official Name Prefix Text\n",
      "Authorized Official Name Suffix Text\n"
     ]
    }
   ],
   "source": [
    "_ = [print(e) for e in list(filter(lambda x: 'Name' in str(x), df.columns))]"
   ]
  },
  {
   "cell_type": "code",
   "execution_count": 55,
   "metadata": {},
   "outputs": [
    {
     "name": "stdout",
     "output_type": "stream",
     "text": [
      "<class 'pandas.core.frame.DataFrame'>\n",
      "Int64Index: 0 entries\n",
      "Data columns (total 4 columns):\n",
      "Provider Organization Name (Legal Business Name)    0 non-null object\n",
      "Provider First Name                                 0 non-null object\n",
      "Provider Middle Name                                0 non-null object\n",
      "Provider Last Name (Legal Name)                     0 non-null object\n",
      "dtypes: object(4)\n",
      "memory usage: 0.0+ bytes\n",
      "<class 'pandas.core.frame.DataFrame'>\n",
      "Int64Index: 383 entries, 149 to 18356\n",
      "Data columns (total 4 columns):\n",
      "Provider Organization Name (Legal Business Name)    0 non-null object\n",
      "Provider First Name                                 1 non-null object\n",
      "Provider Middle Name                                1 non-null object\n",
      "Provider Last Name (Legal Name)                     0 non-null object\n",
      "dtypes: object(4)\n",
      "memory usage: 15.0+ KB\n"
     ]
    }
   ],
   "source": [
    "data = df[['Provider Organization Name (Legal Business Name)', 'Provider First Name', 'Provider Middle Name', 'Provider Last Name (Legal Name)']]\n",
    "rows_with_org_and_last_name = data[data['Provider Organization Name (Legal Business Name)'].notnull() & data['Provider Last Name (Legal Name)'].notnull()]\n",
    "rows_without_org_and_last_name = data[data['Provider Organization Name (Legal Business Name)'].isnull() & data['Provider Last Name (Legal Name)'].isnull()]\n",
    "\n",
    "rows_with_org_and_last_name.info()\n",
    "rows_without_org_and_last_name.info()"
   ]
  },
  {
   "cell_type": "code",
   "execution_count": 66,
   "metadata": {},
   "outputs": [
    {
     "name": "stdout",
     "output_type": "stream",
     "text": [
      "NPI                                                 1649467150\n",
      "Entity Type Code                                           NaN\n",
      "Replacement NPI                                            NaN\n",
      "Employer Identification Number (EIN)                       NaN\n",
      "Provider Organization Name (Legal Business Name)           NaN\n",
      "                                                       ...    \n",
      "Healthcare Provider Taxonomy Group_11                      NaN\n",
      "Healthcare Provider Taxonomy Group_12                      NaN\n",
      "Healthcare Provider Taxonomy Group_13                      NaN\n",
      "Healthcare Provider Taxonomy Group_14                      NaN\n",
      "Healthcare Provider Taxonomy Group_15                      NaN\n",
      "Name: 149, Length: 329, dtype: object\n"
     ]
    }
   ],
   "source": [
    "print(df.iloc[149])"
   ]
  },
  {
   "cell_type": "code",
   "execution_count": 71,
   "metadata": {},
   "outputs": [
    {
     "data": {
      "text/plain": [
       "0        1154982635\n",
       "1        1285282392\n",
       "2        1093363103\n",
       "3        1720636830\n",
       "4        1548818651\n",
       "            ...    \n",
       "18872    1285282533\n",
       "18873    1639728017\n",
       "18874    1548819923\n",
       "18875    1417506965\n",
       "18876    1487161220\n",
       "Name: NPI, Length: 18877, dtype: int64"
      ]
     },
     "execution_count": 71,
     "metadata": {},
     "output_type": "execute_result"
    }
   ],
   "source": [
    "df['NPI']"
   ]
  }
 ],
 "metadata": {
  "kernelspec": {
   "display_name": "Python 3",
   "language": "python",
   "name": "python3"
  },
  "language_info": {
   "codemirror_mode": {
    "name": "ipython",
    "version": 3
   },
   "file_extension": ".py",
   "mimetype": "text/x-python",
   "name": "python",
   "nbconvert_exporter": "python",
   "pygments_lexer": "ipython3",
   "version": "3.7.6"
  }
 },
 "nbformat": 4,
 "nbformat_minor": 4
}
